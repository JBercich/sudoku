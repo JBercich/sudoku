{
 "cells": [
  {
   "cell_type": "markdown",
   "metadata": {},
   "source": [
    "# **Stochastic Solver**\n",
    "\n",
    "Minimising an evaluation function of the sudoku board (such as the numbers of errors), can then be optimised using some stochastic method to reduce this evaluation function to a local or global minima. The consequences of this approach is that it does not guarantee a solution to be found in a deterministically efficient time (for most stochastic `neighbour()` methods). More complex operations also mean that the time complexity of this solver can be slower than faster algorithms."
   ]
  },
  {
   "cell_type": "code",
   "execution_count": null,
   "metadata": {},
   "outputs": [],
   "source": [
    "# import matplotlib.pyplot as plt\n",
    "# import numpy as np\n",
    "# import seaborn as sns"
   ]
  },
  {
   "cell_type": "markdown",
   "metadata": {},
   "source": [
    "### **1: Grid Definition**\n",
    "\n",
    "Since a lot of operations are performed on the different grid iterations, a `numpy` definition of the grid is required. Also a 2D implementation to help with slicing views on the array can help reduce the time and memory explosion with poor Python internals."
   ]
  },
  {
   "cell_type": "code",
   "execution_count": null,
   "metadata": {},
   "outputs": [],
   "source": [
    "# def setup_grid(grid: str, shape: tuple[int, int]) -> np.ndarray:\n",
    "#     return np.asarray(list(grid), dtype=np.uint8).reshape(shape)"
   ]
  },
  {
   "cell_type": "markdown",
   "metadata": {},
   "source": [
    "### **2: `P`-Matrix Definition**\n",
    "\n",
    "A probaility matrix is used to apply a temperature `T` to assert whether a value is updated upon a stochastic iteration step. The probaility matrix cannot change static entries from the input grid so have `p=0` and when a constraint conflicts with the static constraints this should have `p=1` and an easing proability for cell value changes fluctuating between."
   ]
  },
  {
   "cell_type": "code",
   "execution_count": null,
   "metadata": {},
   "outputs": [],
   "source": [
    "# def setup_pmat(grid: np.ndarray, shape: tuple[int, int]) -> np.ndarray:\n",
    "#     pmat: np.ndarray = np.ones(shape, dtype=np.float32)\n",
    "#     pmat[grid != 0] = 0.0\n",
    "#     return pmat\n",
    "\n",
    "\n",
    "# def setup_smat(shp: tuple[int, int]) -> np.ndarray:\n",
    "#     return np.random.randint(1, shp[0], shp)"
   ]
  },
  {
   "cell_type": "markdown",
   "metadata": {},
   "source": [
    "### **3: Updates when Iterating**\n",
    "\n",
    "There are many different update methods worth testing, each will be given a class definition to update both the `pmat` matrix and generating new `state` grids with associated temperture `T` values at each step."
   ]
  },
  {
   "cell_type": "code",
   "execution_count": null,
   "metadata": {},
   "outputs": [],
   "source": [
    "# def get_row_counts(row: int, mat: np.ndarray) -> dict[int, int]:\n",
    "#     return dict(zip(*np.unique(mat[row, :], return_counts=True)))\n",
    "\n",
    "\n",
    "# def get_col_counts(col: int, mat: np.ndarray) -> dict[int, int]:\n",
    "#     return dict(zip(*np.unique(mat[:, col], return_counts=True)))\n",
    "\n",
    "\n",
    "# def get_box_counts(i: int, j: int, mat: np.ndarray) -> dict[int, int]:\n",
    "#     d: int = int(np.sqrt(mat.shape[0]))\n",
    "#     i, j = (i // d) * d, (j // d) * d\n",
    "#     return dict(zip(*np.unique(mat[i : i + d, j : j + d], return_counts=True)))"
   ]
  },
  {
   "cell_type": "code",
   "execution_count": null,
   "metadata": {},
   "outputs": [],
   "source": [
    "# x = range(3)\n",
    "\n",
    "# print(list(x))"
   ]
  },
  {
   "cell_type": "code",
   "execution_count": null,
   "metadata": {},
   "outputs": [],
   "source": [
    "# def get_mat_counts(mat: np.ndarray, dim_size: int, box_size: int) -> dict:\n",
    "#     pass\n",
    "\n",
    "\n",
    "# def update_pmat(pmat: np.ndarray, smat: np.ndarray, grid: np.ndarray) -> np.ndarray:\n",
    "#     # Shapes of the full grid and inner boxes\n",
    "#     dim_size: int = int(np.sqrt(grid.shape[0]))\n",
    "#     box_size: int = int(np.sqrt(dim_size))\n",
    "#     dim_idxs = list(range(dim_size))\n",
    "#     box_idxs = list(\n",
    "#         (i, j)\n",
    "#         for i in range(0, dim_size, box_size)\n",
    "#         for j in range(0, dim_size, box_size)\n",
    "#     )\n",
    "\n",
    "#     # Indexes to search when getting counts of cell values\n",
    "#     grid_row_counter: dict[int, dict] = {i: get_row_counts(i, grid) for i in dim_idxs}\n",
    "#     grid_col_counter: dict[int, dict] = {i: get_col_counts(i, grid) for i in dim_idxs}\n",
    "#     grid_box_counter: dict[int, dict] = {\n",
    "#         i // box_size * box_size + j // box_size: get_box_counts(i, j, grid)\n",
    "#         for i, j in box_idxs\n",
    "#     }\n",
    "\n",
    "#     row_ids: list[int] = list(range(dim))\n",
    "#     col_ids: list[int] = list(range(dim))\n",
    "#     tmp_ids: list[int] = list(range(0, dim, d))\n",
    "#     box_ids: list[tuple[int, int]] = list([(i, j) for i in tmp_ids for j in tmp_ids])\n",
    "#     row_s: dict = {i: get_row_counts(i, smat) for i in row_ids}\n",
    "#     row_g: dict = {i: get_row_counts(i, grid) for i in row_ids}\n",
    "#     col_s: dict = {j: get_col_counts(j, smat) for j in col_ids}\n",
    "#     col_g: dict = {j: get_col_counts(j, grid) for j in col_ids}\n",
    "#     box_s: dict = {i // d * d + j // d: get_box_counts(i, j, smat) for i, j in box_ids}\n",
    "#     box_g: dict = {i // d * d + j // d: get_box_counts(i, j, grid) for i, j in box_ids}\n",
    "\n",
    "#     pmat_new: np.ndarray = pmat.copy()\n",
    "\n",
    "#     print(box_ctr)\n",
    "\n",
    "#     return pmat_new\n",
    "\n",
    "#     # for (i, j), v in np.ndenumerate(smat):\n",
    "#     #     if pmat[i, j] == 0:\n",
    "#     #         continue\n",
    "#     #     if not check_row_hard(i, j, d, smat[i, j], grid):\n",
    "#     #         pmat[i, j] = 1.0\n",
    "#     #     elif not check_col_hard(i, j, d, smat[i, j], grid):\n",
    "#     #         pmat[i, j] = 1.0\n",
    "#     #     elif not check_box_hard(i, j, d, smat[i, j], grid):\n",
    "#     #         pmat[i, j] = 1.0\n",
    "#     #     else:\n",
    "#     #         pmat[i, j] = 0.000001\n",
    "#     #         pmat[i, j] += 0.1 if not check_row_soft(i, j, d, smat) else 0\n",
    "#     #         pmat[i, j] += 0.1 if not check_col_soft(i, j, d, smat) else 0\n",
    "#     #         pmat[i, j] += 0.1 if not check_box_soft(i, j, d, smat) else 0\n",
    "#     # return pmat\n",
    "\n",
    "\n",
    "# print(update_pmat(pmat, smat, grid)), smat"
   ]
  },
  {
   "cell_type": "code",
   "execution_count": null,
   "metadata": {},
   "outputs": [],
   "source": [
    "# class SMatIterator:\n",
    "#     @classmethod\n",
    "#     def update(cls, smat: np.ndarray) -> np.ndarray:\n",
    "#         return smat"
   ]
  },
  {
   "cell_type": "code",
   "execution_count": null,
   "metadata": {},
   "outputs": [],
   "source": [
    "# class PMatIterator:\n",
    "#     @classmethod\n",
    "#     def update(cls, pmat: np.ndarray) -> np.ndarray:\n",
    "#         return pmat"
   ]
  },
  {
   "cell_type": "code",
   "execution_count": null,
   "metadata": {},
   "outputs": [],
   "source": [
    "# shp: tuple[int, int] = (9, 9)\n",
    "# dim: int = int(np.sqrt(shp[0]))\n",
    "# inp = \"500670084407000630068000701000000209050980460679042518105869047796400852003720096\"\n",
    "# grid: np.ndarray = setup_grid(inp, shp)\n",
    "# pmat: np.ndarray = setup_p_matrix(grid, shp)\n",
    "# smat: np.ndarray = np.random.randint(1, shp[0], shp)"
   ]
  },
  {
   "cell_type": "code",
   "execution_count": null,
   "metadata": {},
   "outputs": [],
   "source": [
    "# fig, (ax1, ax2) = plt.subplots(1, 2, figsize=(10, 4))\n",
    "# sns.heatmap(grid, ax=ax1, xticklabels=[], yticklabels=[])\n",
    "# sns.heatmap(pmat, ax=ax2, xticklabels=[], yticklabels=[])\n",
    "# plt.show()"
   ]
  },
  {
   "cell_type": "markdown",
   "metadata": {},
   "source": [
    "## Neighbours Definition"
   ]
  },
  {
   "cell_type": "code",
   "execution_count": null,
   "metadata": {},
   "outputs": [],
   "source": [
    "# def check_row_hard(i: int, j: int, d: int, v: int, frozen: np.ndarray) -> bool:\n",
    "#     return v not in frozen[i, :]\n",
    "\n",
    "\n",
    "# def check_col_hard(i: int, j: int, d: int, v: int, frozen: np.ndarray) -> bool:\n",
    "#     return v not in frozen[:, j]\n",
    "\n",
    "\n",
    "# def check_box_hard(i: int, j: int, d: int, v: int, frozen: np.ndarray) -> bool:\n",
    "#     return v not in frozen[(i // d) : (i // d) + d, (j // d) : (j // d) + d]\n",
    "\n",
    "\n",
    "# def check_row_soft(i: int, j: int, d: int, values: np.ndarray) -> bool:\n",
    "#     return dict(zip(*np.unique(values[i, :], return_counts=True)))[values[i, j]] == 1\n",
    "\n",
    "\n",
    "# def check_col_soft(i: int, j: int, d: int, values: np.ndarray) -> bool:\n",
    "#     return dict(zip(*np.unique(values[:, j], return_counts=True)))[values[i, j]] == 1\n",
    "\n",
    "\n",
    "# def check_box_soft(i: int, j: int, d: int, values: np.ndarray) -> bool:\n",
    "#     v: int = values[i, j]\n",
    "#     s: int = (i // d) * d\n",
    "#     k: int = (j // d) * d\n",
    "#     return dict(zip(*np.unique(values[s : s + d, k : k + d], return_counts=1)))[v] == 1"
   ]
  },
  {
   "cell_type": "code",
   "execution_count": null,
   "metadata": {},
   "outputs": [],
   "source": [
    "# def update_probability_matrix(probs: np.ndarray, guess: np.ndarray, frozen: np.ndarray):\n",
    "#     d: int = int(np.sqrt(probs.shape[0]))\n",
    "#     for (i, j), v in np.ndenumerate(guess):\n",
    "#         if probs[i, j] == 0:\n",
    "#             continue\n",
    "#         if not check_row_hard(i, j, d, guess[i, j], frozen):\n",
    "#             probs[i, j] = 1.0\n",
    "#         elif not check_col_hard(i, j, d, guess[i, j], frozen):\n",
    "#             probs[i, j] = 1.0\n",
    "#         elif not check_box_hard(i, j, d, guess[i, j], frozen):\n",
    "#             probs[i, j] = 1.0\n",
    "#         else:\n",
    "#             probs[i, j] = 0.000001\n",
    "#             probs[i, j] += 0.1 if not check_row_soft(i, j, d, guess) else 0\n",
    "#             probs[i, j] += 0.1 if not check_col_soft(i, j, d, guess) else 0\n",
    "#             probs[i, j] += 0.1 if not check_box_soft(i, j, d, guess) else 0"
   ]
  },
  {
   "cell_type": "code",
   "execution_count": null,
   "metadata": {},
   "outputs": [],
   "source": [
    "# def generate_guess(values: np.ndarray, probs: np.ndarray, shp: tuple) -> np.ndarray:\n",
    "#     n: int = values.size\n",
    "#     x = np.stack((values.reshape(-1), np.random.randint(1, dim, (n,))), axis=1)\n",
    "#     p = probs.reshape(-1)\n",
    "#     odds = np.stack((np.abs(p - 1), p), axis=1)\n",
    "#     guess = np.zeros((n,))\n",
    "#     for i, x in enumerate(x, 0):\n",
    "#         guess[i] = np.random.choice(x, p=odds[i])\n",
    "#     return guess.reshape(shp)"
   ]
  },
  {
   "cell_type": "code",
   "execution_count": null,
   "metadata": {},
   "outputs": [],
   "source": [
    "# def solve(values, frozen, shp):\n",
    "#     probs: np.ndarray = setup_probability_matrix(shp, frozen)\n",
    "#     state: np.ndarray = generate_guess(values, probs, shp)\n",
    "#     for step in range(1000):\n",
    "#         print(\"Step:\", step)\n",
    "#         # temp: float = 1 - (step + 1) / 1000\n",
    "#         p0 = np.sum(probs == 1)\n",
    "#         iterstop = 0\n",
    "#         while np.sum(probs == 1) >= p0:\n",
    "#             state = generate_guess(state, probs, shp)\n",
    "#             update_probability_matrix(probs, state, frozen)\n",
    "#             iterstop += 1\n",
    "#             if iterstop > 100:\n",
    "#                 break\n",
    "#         p0 = np.sum(probs == 1)\n",
    "#         print(p0)\n",
    "#     return state\n",
    "\n",
    "\n",
    "# # Let s = s0\n",
    "# # For k = 0 through kmax (exclusive):\n",
    "# # T ← temperature( 1 - (k+1)/kmax )\n",
    "# # Pick a random neighbour, snew ← neighbour(s)\n",
    "# # If P(E(s), E(snew), T) ≥ random(0, 1):\n",
    "# # s ← snew\n",
    "# # Output: the final state s\n",
    "\n",
    "# solve(values, frozen, shp)"
   ]
  },
  {
   "cell_type": "markdown",
   "metadata": {},
   "source": [
    "#### Visualising Temperature Function"
   ]
  },
  {
   "cell_type": "code",
   "execution_count": null,
   "metadata": {},
   "outputs": [],
   "source": [
    "# from matplotlib.axes import Axes"
   ]
  },
  {
   "cell_type": "code",
   "execution_count": null,
   "metadata": {},
   "outputs": [],
   "source": [
    "# kmax: int = 100000\n",
    "# temp: list[float] = []\n",
    "# for k in range(kmax):\n",
    "#     temp.append(1 - (k + 1) / kmax)\n",
    "# plot: Axes = sns.lineplot(temp)\n",
    "# plot.set_xlabel(\"Step Number\")\n",
    "# plot.set_ylabel(\"Temperature\")\n",
    "# plt.show()"
   ]
  },
  {
   "cell_type": "code",
   "execution_count": null,
   "metadata": {},
   "outputs": [],
   "source": [
    "# shp = 9, 9\n",
    "# d: int = int(np.sqrt(shp[0]))\n",
    "# idxs = np.zeros(shp)\n",
    "# for i in range(shp[0]):\n",
    "#     for j in range(shp[1]):\n",
    "#         idxs[i, j] = i // d * d + j // d\n",
    "#         # print(i // d, j // d)  # + j // d)\n",
    "# sns.heatmap(idxs)"
   ]
  }
 ],
 "metadata": {
  "kernelspec": {
   "display_name": "sudoku",
   "language": "python",
   "name": "python3"
  },
  "language_info": {
   "codemirror_mode": {
    "name": "ipython",
    "version": 3
   },
   "file_extension": ".py",
   "mimetype": "text/x-python",
   "name": "python",
   "nbconvert_exporter": "python",
   "pygments_lexer": "ipython3",
   "version": "3.11.7"
  }
 },
 "nbformat": 4,
 "nbformat_minor": 2
}
