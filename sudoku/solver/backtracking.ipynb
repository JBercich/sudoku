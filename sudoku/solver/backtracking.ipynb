{
 "cells": [
  {
   "cell_type": "markdown",
   "metadata": {},
   "source": [
    "# **Backtracking Solver**\n",
    "\n",
    "A simple brute-force approach to solving a Sudoku puzzle. The algorithm will iterate over all possible solutions and by applying constraints this can reduce the overall time complexity of the solver. Additional tricks can be implemented to further reduce the time needed to solve this problem."
   ]
  },
  {
   "cell_type": "code",
   "execution_count": 1,
   "metadata": {},
   "outputs": [],
   "source": [
    "import time\n",
    "from pathlib import Path\n",
    "\n",
    "import numpy as np\n",
    "import pandas as pd\n",
    "import seaborn as sns"
   ]
  },
  {
   "cell_type": "markdown",
   "metadata": {},
   "source": [
    "## **1: Grid Definition**"
   ]
  },
  {
   "cell_type": "code",
   "execution_count": 2,
   "metadata": {},
   "outputs": [],
   "source": [
    "class SudokuGrid:\n",
    "    def __init__(self, grid: str):\n",
    "        values: list[int] = [int(s) for s in grid]\n",
    "        self.dim_total: int = int(np.sqrt(len(values)))\n",
    "        self.dim_boxes: int = int(np.sqrt(self.dim_total))\n",
    "        self.shape: tuple[int, int] = (self.dim_total, self.dim_total)\n",
    "        self.cells: np.ndarray = np.asarray(values, dtype=np.uint8).reshape(self.shape)\n",
    "        self.frozen: np.ndarray = self.cells.copy()\n",
    "\n",
    "    def __str__(self) -> str:\n",
    "        return self.cells.__str__()\n",
    "\n",
    "    def __repr__(self) -> str:\n",
    "        return self.cells.__repr__()\n",
    "\n",
    "    def get_row_by_index(self, i: int, _: int) -> np.ndarray:\n",
    "        return self.cells[i, :]\n",
    "\n",
    "    def get_col_by_index(self, _: int, j: int) -> np.ndarray:\n",
    "        return self.cells[:, j]\n",
    "\n",
    "    def get_box_by_index(self, i: int, j: int) -> np.ndarray:\n",
    "        i = (i // self.dim_boxes) * self.dim_boxes\n",
    "        j = (j // self.dim_boxes) * self.dim_boxes\n",
    "        return self.cells[i : i + self.dim_boxes, j : j + self.dim_boxes]\n",
    "\n",
    "    def cell_is_valid(self, i: int, j: int) -> bool:\n",
    "        row: np.ndarray = self.get_row_by_index(i, j)\n",
    "        col: np.ndarray = self.get_col_by_index(i, j)\n",
    "        box: np.ndarray = self.get_box_by_index(i, j)\n",
    "        if np.unique(row[row != 0]).size != row[row != 0].size:\n",
    "            return False\n",
    "        elif np.unique(col[col != 0]).size != col[col != 0].size:\n",
    "            return False\n",
    "        elif np.unique(box[box != 0]).size != box[box != 0].size:\n",
    "            return False\n",
    "        return True\n",
    "\n",
    "    def is_valid(self) -> bool:\n",
    "        dim: int = self.dim_boxes\n",
    "        for i in range(self.dim_total):\n",
    "            row: np.ndarray = self.get_row_by_index(i, _)\n",
    "            if np.unique(row[row != 0]).size != row[row != 0].size:\n",
    "                return False\n",
    "            col: np.ndarray = self.get_col_by_index(_, i)\n",
    "            if np.unique(col[col != 0]).size != col[col != 0].size:\n",
    "                return False\n",
    "            box: np.ndarray = self.get_box_by_index(i // dim * dim, i % dim * dim)\n",
    "            if np.unique(box[box != 0]).size != box[box != 0].size:\n",
    "                return False\n",
    "        return True\n",
    "\n",
    "    def is_complete(self) -> bool:\n",
    "        return self.is_valid() and np.sum(self.cells == 0) == 0"
   ]
  },
  {
   "cell_type": "markdown",
   "metadata": {},
   "source": [
    "## **2. Subspace Definition**\n",
    "\n",
    "To save future work, a subspace of possible values are defined for each cell to reduce the need for complex hierarchical extensions of inheriting the algorithm to implement some optimisations. This subspace is simply a 3D matrix where each 2D cell contains available selections for that cell."
   ]
  },
  {
   "cell_type": "code",
   "execution_count": 3,
   "metadata": {},
   "outputs": [],
   "source": [
    "def setup_subspace(grid: SudokuGrid) -> np.ndarray:\n",
    "    subspace: np.ndarray = np.zeros((*grid.shape, grid.dim_total + 1), dtype=np.bool_)\n",
    "    subspace[:, :, 1:] = 1\n",
    "    return subspace"
   ]
  },
  {
   "cell_type": "markdown",
   "metadata": {},
   "source": [
    "## **3. Backtrack Algorithm**"
   ]
  },
  {
   "cell_type": "code",
   "execution_count": 206,
   "metadata": {},
   "outputs": [],
   "source": [
    "def backtrack(grid: SudokuGrid, subspace: np.ndarray, i: int = 0, j: int = 0) -> bool:\n",
    "    if i == grid.dim_total:\n",
    "        return True\n",
    "    j_upd: int = j + 1 if j + 1 < grid.dim_total else 0\n",
    "    i_upd: int = i + 1 if j_upd == 0 else i\n",
    "\n",
    "    if grid.frozen[i, j] != 0:\n",
    "        return backtrack(grid, subspace, i_upd, j_upd)\n",
    "\n",
    "    for (v,), valid_value_update in np.ndenumerate(subspace[i, j]):\n",
    "        if valid_value_update:\n",
    "            grid.cells[i, j] = v\n",
    "            if grid.cell_is_valid(i, j):\n",
    "                if backtrack(grid, subspace, i_upd, j_upd):\n",
    "                    return True\n",
    "    grid.cells[i, j] = 0\n",
    "    return False"
   ]
  },
  {
   "cell_type": "code",
   "execution_count": 208,
   "metadata": {},
   "outputs": [
    {
     "data": {
      "text/plain": [
       "(array([[5, 3, 2, 6, 7, 1, 9, 8, 4],\n",
       "        [4, 1, 7, 2, 9, 8, 6, 3, 5],\n",
       "        [9, 6, 8, 5, 3, 4, 7, 2, 1],\n",
       "        [3, 8, 4, 1, 5, 6, 2, 7, 9],\n",
       "        [2, 5, 1, 9, 8, 7, 4, 6, 3],\n",
       "        [6, 7, 9, 3, 4, 2, 5, 1, 8],\n",
       "        [1, 2, 5, 8, 6, 9, 3, 4, 7],\n",
       "        [7, 9, 6, 4, 1, 3, 8, 5, 2],\n",
       "        [8, 4, 3, 7, 2, 5, 1, 9, 6]], dtype=uint8),\n",
       " True)"
      ]
     },
     "execution_count": 208,
     "metadata": {},
     "output_type": "execute_result"
    }
   ],
   "source": [
    "inp = \"500670084407000630068000701000000209050980460679042518105869047796400852003720096\"\n",
    "grid: SudokuGrid = SudokuGrid(inp)\n",
    "subspace: np.ndarray = setup_subspace(grid)\n",
    "complete: bool = backtrack(grid, subspace)\n",
    "grid, grid.is_complete()"
   ]
  },
  {
   "cell_type": "markdown",
   "metadata": {},
   "source": [
    "## **3. Profiling the Solver**"
   ]
  },
  {
   "cell_type": "code",
   "execution_count": 223,
   "metadata": {},
   "outputs": [],
   "source": [
    "FILEPATH: Path = Path().resolve().parent.parent / \"data\" / \"sudoku.csv\"\n",
    "\n",
    "\n",
    "def setup_problems(filepath: Path = FILEPATH, num: int = 1000) -> list[tuple[str, str]]:\n",
    "    problems: list[tuple[str, str]] = []\n",
    "    with open(filepath, \"r\") as fp:\n",
    "        for _ in range(num):\n",
    "            problems.append(fp.readline().strip().split(\",\"))\n",
    "    return problems"
   ]
  },
  {
   "cell_type": "code",
   "execution_count": null,
   "metadata": {},
   "outputs": [],
   "source": [
    "def solve_problems(problems: list[tuple[str, str]]) -> pd.DataFrame:\n",
    "    _t_total: list[float] = []\n",
    "    _t_setup: list[float] = []\n",
    "    _t_solve: list[float] = []\n",
    "    _t_check: list[float] = []\n",
    "    _finished: list[bool] = []\n",
    "    _solution: list[bool] = []\n",
    "    _problemid: list[int] = []\n",
    "    for i, (problem, solution) in enumerate(problems, 1):\n",
    "        _problemid.append(i)\n",
    "        t_total: float = time.time()\n",
    "        grid: SudokuGrid = SudokuGrid(problem)\n",
    "        t_setup: float = time.time()\n",
    "        subspace: np.ndarray = setup_subspace(grid)\n",
    "        _t_setup.append(time.time() - t_setup)\n",
    "        t_solve: float = time.time()\n",
    "        _finished.append(backtrack(grid, subspace))\n",
    "        _t_solve.append(time.time() - t_solve)\n",
    "        t_check: float = time.time()\n",
    "        _solution.append(grid.is_complete())\n",
    "        _t_check.append(time.time() - t_check)\n",
    "        _t_total.append(time.time() - t_total)\n",
    "        print(f\"Solved ({_solution[-1]}): {_t_total[-1]:.4f}s\")\n",
    "    return pd.DataFrame(\n",
    "        {\n",
    "            \"ProblemId\": _problemid,\n",
    "            \"IsSolved\": _solution,\n",
    "            \"IsFinished\": _finished,\n",
    "            \"TotalTime\": _t_total,\n",
    "            \"SetupTime\": _t_setup,\n",
    "            \"SolveTime\": _t_solve,\n",
    "            \"CheckTime\": _t_check,\n",
    "        }\n",
    "    )\n",
    "\n",
    "\n",
    "results: pd.DataFrame = solve_problems(setup_problems(num=100))"
   ]
  },
  {
   "cell_type": "code",
   "execution_count": 233,
   "metadata": {},
   "outputs": [
    {
     "data": {
      "text/plain": [
       "<Axes: xlabel='Profile', ylabel='Time'>"
      ]
     },
     "execution_count": 233,
     "metadata": {},
     "output_type": "execute_result"
    },
    {
     "data": {
      "image/png": "[encoded data removed]",
      "text/plain": [
       "<Figure size 640x480 with 1 Axes>"
      ]
     },
     "metadata": {},
     "output_type": "display_data"
    }
   ],
   "source": [
    "profile: pd.DataFrame = pd.melt(\n",
    "    results,\n",
    "    id_vars=[\"ProblemId\", \"IsSolved\", \"IsFinished\"],\n",
    "    value_vars=[\"TotalTime\", \"SetupTime\", \"SolveTime\", \"CheckTime\"],\n",
    "    value_name=\"Time\",\n",
    "    var_name=\"Profile\",\n",
    ")\n",
    "\n",
    "sns.boxplot(profile, x=\"Profile\", y=\"Time\")"
   ]
  },
  {
   "cell_type": "code",
   "execution_count": 236,
   "metadata": {},
   "outputs": [
    {
     "data": {
      "text/plain": [
       "<Axes: ylabel='CheckTime'>"
      ]
     },
     "execution_count": 236,
     "metadata": {},
     "output_type": "execute_result"
    },
    {
     "data": {
      "image/png": "[encoded data removed]",
      "text/plain": [
       "<Figure size 640x480 with 1 Axes>"
      ]
     },
     "metadata": {},
     "output_type": "display_data"
    }
   ],
   "source": [
    "sns.boxplot(results, y=\"CheckTime\")"
   ]
  }
 ],
 "metadata": {
  "kernelspec": {
   "display_name": "sudoku",
   "language": "python",
   "name": "python3"
  },
  "language_info": {
   "codemirror_mode": {
    "name": "ipython",
    "version": 3
   },
   "file_extension": ".py",
   "mimetype": "text/x-python",
   "name": "python",
   "nbconvert_exporter": "python",
   "pygments_lexer": "ipython3",
   "version": "3.11.7"
  }
 },
 "nbformat": 4,
 "nbformat_minor": 2
}
