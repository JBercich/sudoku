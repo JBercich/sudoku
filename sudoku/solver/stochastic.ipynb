{
 "cells": [
  {
   "cell_type": "markdown",
   "metadata": {},
   "source": [
    "# Stochastic Solver Experimentation"
   ]
  },
  {
   "cell_type": "code",
   "execution_count": null,
   "metadata": {},
   "outputs": [],
   "source": [
    "import matplotlib.pyplot as plt\n",
    "import numpy as np\n",
    "import seaborn as sns"
   ]
  },
  {
   "cell_type": "code",
   "execution_count": null,
   "metadata": {},
   "outputs": [],
   "source": [
    "x = \"500670084407000630068000701000000209050980460679042518105869047796400852003720096\"\n",
    "y = \"532671984417298635968534721384156279251987463679342518125869347796413852843725196\"\n",
    "\n",
    "dim = 9\n",
    "shp = (dim, dim)\n",
    "values = np.asarray(list(x), dtype=np.uint8).reshape(shp)\n",
    "frozen = values.copy()\n",
    "values, frozen"
   ]
  },
  {
   "cell_type": "code",
   "execution_count": null,
   "metadata": {},
   "outputs": [],
   "source": []
  },
  {
   "cell_type": "code",
   "execution_count": null,
   "metadata": {},
   "outputs": [],
   "source": []
  },
  {
   "cell_type": "code",
   "execution_count": null,
   "metadata": {},
   "outputs": [],
   "source": [
    "def setup_probability_matrix(shp: tuple, frozen: np.ndarray) -> np.ndarray:\n",
    "    probs: np.ndarray = np.ones(shp, dtype=np.float32)\n",
    "    probs[frozen != 0] = 0.0\n",
    "    return probs"
   ]
  },
  {
   "cell_type": "code",
   "execution_count": null,
   "metadata": {},
   "outputs": [],
   "source": [
    "def check_row_hard(i: int, j: int, d: int, v: int, frozen: np.ndarray) -> bool:\n",
    "    return v not in frozen[i, :]\n",
    "\n",
    "\n",
    "def check_col_hard(i: int, j: int, d: int, v: int, frozen: np.ndarray) -> bool:\n",
    "    return v not in frozen[:, j]\n",
    "\n",
    "\n",
    "def check_box_hard(i: int, j: int, d: int, v: int, frozen: np.ndarray) -> bool:\n",
    "    return v not in frozen[(i // d) : (i // d) + d, (j // d) : (j // d) + d]\n",
    "\n",
    "\n",
    "def check_row_soft(i: int, j: int, d: int, values: np.ndarray) -> bool:\n",
    "    return dict(zip(*np.unique(values[i, :], return_counts=True)))[values[i, j]] == 1\n",
    "\n",
    "\n",
    "def check_col_soft(i: int, j: int, d: int, values: np.ndarray) -> bool:\n",
    "    return dict(zip(*np.unique(values[:, j], return_counts=True)))[values[i, j]] == 1\n",
    "\n",
    "\n",
    "def check_box_soft(i: int, j: int, d: int, values: np.ndarray) -> bool:\n",
    "    v: int = values[i, j]\n",
    "    s: int = (i // d) * d\n",
    "    k: int = (j // d) * d\n",
    "    return dict(zip(*np.unique(values[s : s + d, k : k + d], return_counts=1)))[v] == 1"
   ]
  },
  {
   "cell_type": "code",
   "execution_count": null,
   "metadata": {},
   "outputs": [],
   "source": [
    "def update_probability_matrix(probs: np.ndarray, guess: np.ndarray, frozen: np.ndarray):\n",
    "    d: int = int(np.sqrt(probs.shape[0]))\n",
    "    for (i, j), v in np.ndenumerate(guess):\n",
    "        if probs[i, j] == 0:\n",
    "            continue\n",
    "        if not check_row_hard(i, j, d, guess[i, j], frozen):\n",
    "            probs[i, j] = 1.0\n",
    "        elif not check_col_hard(i, j, d, guess[i, j], frozen):\n",
    "            probs[i, j] = 1.0\n",
    "        elif not check_box_hard(i, j, d, guess[i, j], frozen):\n",
    "            probs[i, j] = 1.0\n",
    "        else:\n",
    "            probs[i, j] = 0.000001\n",
    "            probs[i, j] += 0.1 if not check_row_soft(i, j, d, guess) else 0\n",
    "            probs[i, j] += 0.1 if not check_col_soft(i, j, d, guess) else 0\n",
    "            probs[i, j] += 0.1 if not check_box_soft(i, j, d, guess) else 0"
   ]
  },
  {
   "cell_type": "code",
   "execution_count": null,
   "metadata": {},
   "outputs": [],
   "source": [
    "def generate_guess(values: np.ndarray, probs: np.ndarray, shp: tuple) -> np.ndarray:\n",
    "    n: int = values.size\n",
    "    x = np.stack((values.reshape(-1), np.random.randint(1, dim, (n,))), axis=1)\n",
    "    p = probs.reshape(-1)\n",
    "    odds = np.stack((np.abs(p - 1), p), axis=1)\n",
    "    guess = np.zeros((n,))\n",
    "    for i, x in enumerate(x, 0):\n",
    "        guess[i] = np.random.choice(x, p=odds[i])\n",
    "    return guess.reshape(shp)"
   ]
  },
  {
   "cell_type": "code",
   "execution_count": null,
   "metadata": {},
   "outputs": [],
   "source": [
    "def solve(values, frozen, shp):\n",
    "    probs: np.ndarray = setup_probability_matrix(shp, frozen)\n",
    "    state: np.ndarray = generate_guess(values, probs, shp)\n",
    "    for step in range(1000):\n",
    "        print(\"Step:\", step)\n",
    "        # temp: float = 1 - (step + 1) / 1000\n",
    "        p0 = np.sum(probs == 1)\n",
    "        iterstop = 0\n",
    "        while np.sum(probs == 1) >= p0:\n",
    "            state = generate_guess(state, probs, shp)\n",
    "            update_probability_matrix(probs, state, frozen)\n",
    "            iterstop += 1\n",
    "            if iterstop > 100:\n",
    "                break\n",
    "        p0 = np.sum(probs == 1)\n",
    "        print(p0)\n",
    "    return state\n",
    "\n",
    "\n",
    "# Let s = s0\n",
    "# For k = 0 through kmax (exclusive):\n",
    "# T ← temperature( 1 - (k+1)/kmax )\n",
    "# Pick a random neighbour, snew ← neighbour(s)\n",
    "# If P(E(s), E(snew), T) ≥ random(0, 1):\n",
    "# s ← snew\n",
    "# Output: the final state s\n",
    "\n",
    "solve(values, frozen, shp)"
   ]
  },
  {
   "cell_type": "markdown",
   "metadata": {},
   "source": [
    "#### Visualising Temperature Function"
   ]
  },
  {
   "cell_type": "code",
   "execution_count": null,
   "metadata": {},
   "outputs": [],
   "source": [
    "from matplotlib.axes import Axes"
   ]
  },
  {
   "cell_type": "code",
   "execution_count": null,
   "metadata": {},
   "outputs": [],
   "source": [
    "kmax: int = 100000\n",
    "temp: list[float] = []\n",
    "for k in range(kmax):\n",
    "    temp.append(1 - (k + 1) / kmax)\n",
    "plot: Axes = sns.lineplot(temp)\n",
    "plot.set_xlabel(\"Step Number\")\n",
    "plot.set_ylabel(\"Temperature\")\n",
    "plt.show()"
   ]
  },
  {
   "cell_type": "code",
   "execution_count": null,
   "metadata": {},
   "outputs": [],
   "source": []
  }
 ],
 "metadata": {
  "kernelspec": {
   "display_name": "sudoku",
   "language": "python",
   "name": "python3"
  },
  "language_info": {
   "codemirror_mode": {
    "name": "ipython",
    "version": 3
   },
   "file_extension": ".py",
   "mimetype": "text/x-python",
   "name": "python",
   "nbconvert_exporter": "python",
   "pygments_lexer": "ipython3",
   "version": "3.11.7"
  }
 },
 "nbformat": 4,
 "nbformat_minor": 2
}
